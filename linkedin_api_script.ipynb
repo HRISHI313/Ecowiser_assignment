{
 "cells": [
  {
   "cell_type": "code",
   "execution_count": 17,
   "metadata": {},
   "outputs": [],
   "source": [
    "class LinkedinClient(object):\n",
    "    \"\"\"\n",
    "       Usage:\n",
    "       client  = LinkedinClient(access_token)\n",
    "       user_details = client.get_user_details()\n",
    "    \"\"\"\n",
    "\n",
    "    FIELD_SELECTORS = ['id', 'firstName', 'lastName',\n",
    "                       'profilePicture(displayImage~:playableStreams)',\n",
    "                       'emailAddress']\n",
    "\n",
    "    USER_DETAILS_URL = 'https://api.linkedin.com/v2/me' \\\n",
    "                       '?projection=({projection})'\n",
    "    USER_EMAILS_URL = 'https://api.linkedin.com/v2/emailAddress' \\\n",
    "                      '?q=members&projection=(elements*(handle~))'\n",
    "\n",
    "    PROFILE_PICTURE_WIDTH = 200\n",
    "    PROFILE_PICTURE_HEIGHT = 200\n",
    "\n",
    "    def __init__(self, access_token):\n",
    "        self.access_token = access_token\n",
    "\n",
    "    def user_details_url(self):\n",
    "        # use set() since LinkedIn fails when values are duplicated\n",
    "        fields_selectors = list(\n",
    "            set(['id', 'firstName', 'lastName'] + self.FIELD_SELECTORS or []))\n",
    "        fields_selectors = ','.join(fields_selectors)\n",
    "        return self.USER_DETAILS_URL.format(projection=fields_selectors)\n",
    "\n",
    "    def user_emails_url(self):\n",
    "        return self.USER_EMAILS_URL\n",
    "\n",
    "    def get_headers(self):\n",
    "        return {\n",
    "            'Authorization': 'Bearer {access_token}'.format(\n",
    "                access_token=self.access_token)\n",
    "        }\n",
    "\n",
    "    def get_user_details(self):\n",
    "        \"\"\"\n",
    "        Get all the details of the Linkedin User\n",
    "        \"\"\"\n",
    "        user_details = self.get_json(self.user_details_url(),\n",
    "                                     headers=self.get_headers())\n",
    "        self.process_error(user_details)\n",
    "        if 'emailAddress' in set(self.FIELD_SELECTORS or []):\n",
    "            user_details['emailAddress'] = self._get_email()\n",
    "        if 'firstName' in user_details.keys():\n",
    "            user_details['firstName'] = self._get_name(\n",
    "                user_details['firstName'])\n",
    "        if 'lastName' in user_details.keys():\n",
    "            user_details['lastName'] = self._get_name(user_details['lastName'])\n",
    "        if 'profilePicture' in user_details.keys():\n",
    "            user_details['profilePicture'] = self._get_profile_picture(\n",
    "                user_details['profilePicture'])\n",
    "        return user_details\n",
    "\n",
    "    def get_emails(self):\n",
    "        \"\"\"\n",
    "        Get the list of all the emails associated with Linkedin Account\n",
    "        \"\"\"\n",
    "        response = self.get_json(self.user_emails_url(),\n",
    "                                 headers=self.get_headers())\n",
    "        self.process_error(response)\n",
    "        email_addresses = []\n",
    "        for element in response.get('elements', []):\n",
    "            email_address = element.get('handle~', {}).get('emailAddress')\n",
    "            email_addresses.append(email_address)\n",
    "        return list(filter(None, email_addresses))\n",
    "\n",
    "    def _get_email(self):\n",
    "        \"\"\"\n",
    "        Get primary/first email address associated with Linkedin Account\n",
    "        \"\"\"\n",
    "        emails = self.get_emails()\n",
    "        if emails:\n",
    "            return emails[0]\n",
    "\n",
    "    def _get_name(self, name):\n",
    "        \"\"\"\n",
    "        FirstName & Last Name object\n",
    "        {\n",
    "              \"localized\":{\n",
    "                 \"en_US\":\"Smith\"\n",
    "              },\n",
    "              \"preferredLocale\":{\n",
    "                 \"country\":\"US\",\n",
    "                 \"language\":\"en\"\n",
    "              }\n",
    "        }\n",
    "        :return the localizedName from the lastName object\n",
    "        \"\"\"\n",
    "        locale = \"{}_{}\".format(\n",
    "            name[\"preferredLocale\"][\"language\"],\n",
    "            name[\"preferredLocale\"][\"country\"]\n",
    "        )\n",
    "        return name['localized'].get(locale, '')\n",
    "\n",
    "    def _get_profile_picture(self, pictures):\n",
    "        \"\"\"\n",
    "        Get the first profile picture that matches the dimensions\n",
    "        \"\"\"\n",
    "        elements = pictures.get('displayImage~', {}).get('elements', [])\n",
    "        for element in elements:\n",
    "            if element.get('authorizationMethod') == 'PUBLIC':\n",
    "                storage_size = element.get('data', {}).get(\n",
    "                    'com.linkedin.digitalmedia.mediaartifact.StillImage',\n",
    "                    {}).get('storageSize', {})\n",
    "                if storage_size.get('height') == self.PROFILE_PICTURE_HEIGHT \\\n",
    "                        and storage_size.get('width') == self.PROFILE_PICTURE_WIDTH:\n",
    "                    for identifier in element.get('identifiers', []):\n",
    "                        if identifier.get('identifierType') == 'EXTERNAL_URL':\n",
    "                            return identifier.get('identifier')\n",
    "\n",
    "    def get_json(self, url, *args, **kwargs):\n",
    "        return requests.get(url, *args, **kwargs).json()\n",
    "\n",
    "    def process_error(self, data):\n",
    "        if data.get('serviceErrorCode'):\n",
    "            raise LookupError(data.get('message') or data.get('status'))"
   ]
  },
  {
   "cell_type": "code",
   "execution_count": 15,
   "metadata": {},
   "outputs": [],
   "source": [
    "# Replace 'your_access_token' with the actual LinkedIn access token\n",
    "access_token = 'AQX1wz-trMzNcNMJc7tSE9MM7r8R7Wt6UObEUNHMmotEtlxdZDAcc2_OC0HLzjkB-QVr0JesJMUWZtI05vTxM6ussXIt1BFb4VPvpSGHpVAaVXYXt5D4m5a4t7I6t0KL6VM344XWV2Zqmlfptrr0oWJaw_G1B3W0oIBu5L_jB7LNefXsFR135gN0FCfTCQmnPHVVMCupQc8795pT2Mo6diV1J5P0IsNsBoagfM_tqX8_pqpqcx810v8oEfwGSZtsUReVewOGeDIZeTihiq_x2ns2eEHJSZkmR2OCpbJ75fftknti_U7t4196fGPfIDke6gVxLQY3LTOQTuciIcJADmsBLDIKQw'\n",
    "\n",
    "linkedin_client = LinkedinClient(access_token)\n"
   ]
  },
  {
   "cell_type": "code",
   "execution_count": 16,
   "metadata": {},
   "outputs": [
    {
     "ename": "LookupError",
     "evalue": "Not enough permissions to access: GET /me",
     "output_type": "error",
     "traceback": [
      "\u001b[1;31m---------------------------------------------------------------------------\u001b[0m",
      "\u001b[1;31mLookupError\u001b[0m                               Traceback (most recent call last)",
      "Cell \u001b[1;32mIn[16], line 1\u001b[0m\n\u001b[1;32m----> 1\u001b[0m user_details \u001b[38;5;241m=\u001b[39m \u001b[43mlinkedin_client\u001b[49m\u001b[38;5;241;43m.\u001b[39;49m\u001b[43mget_user_details\u001b[49m\u001b[43m(\u001b[49m\u001b[43m)\u001b[49m\n",
      "Cell \u001b[1;32mIn[8], line 45\u001b[0m, in \u001b[0;36mLinkedinClient.get_user_details\u001b[1;34m(self)\u001b[0m\n\u001b[0;32m     40\u001b[0m \u001b[38;5;250m\u001b[39m\u001b[38;5;124;03m\"\"\"\u001b[39;00m\n\u001b[0;32m     41\u001b[0m \u001b[38;5;124;03mGet all the details of the Linkedin User\u001b[39;00m\n\u001b[0;32m     42\u001b[0m \u001b[38;5;124;03m\"\"\"\u001b[39;00m\n\u001b[0;32m     43\u001b[0m user_details \u001b[38;5;241m=\u001b[39m \u001b[38;5;28mself\u001b[39m\u001b[38;5;241m.\u001b[39mget_json(\u001b[38;5;28mself\u001b[39m\u001b[38;5;241m.\u001b[39muser_details_url(),\n\u001b[0;32m     44\u001b[0m                              headers\u001b[38;5;241m=\u001b[39m\u001b[38;5;28mself\u001b[39m\u001b[38;5;241m.\u001b[39mget_headers())\n\u001b[1;32m---> 45\u001b[0m \u001b[38;5;28;43mself\u001b[39;49m\u001b[38;5;241;43m.\u001b[39;49m\u001b[43mprocess_error\u001b[49m\u001b[43m(\u001b[49m\u001b[43muser_details\u001b[49m\u001b[43m)\u001b[49m\n\u001b[0;32m     46\u001b[0m \u001b[38;5;28;01mif\u001b[39;00m \u001b[38;5;124m'\u001b[39m\u001b[38;5;124memailAddress\u001b[39m\u001b[38;5;124m'\u001b[39m \u001b[38;5;129;01min\u001b[39;00m \u001b[38;5;28mset\u001b[39m(\u001b[38;5;28mself\u001b[39m\u001b[38;5;241m.\u001b[39mFIELD_SELECTORS \u001b[38;5;129;01mor\u001b[39;00m []):\n\u001b[0;32m     47\u001b[0m     user_details[\u001b[38;5;124m'\u001b[39m\u001b[38;5;124memailAddress\u001b[39m\u001b[38;5;124m'\u001b[39m] \u001b[38;5;241m=\u001b[39m \u001b[38;5;28mself\u001b[39m\u001b[38;5;241m.\u001b[39m_get_email()\n",
      "Cell \u001b[1;32mIn[8], line 120\u001b[0m, in \u001b[0;36mLinkedinClient.process_error\u001b[1;34m(self, data)\u001b[0m\n\u001b[0;32m    118\u001b[0m \u001b[38;5;28;01mdef\u001b[39;00m \u001b[38;5;21mprocess_error\u001b[39m(\u001b[38;5;28mself\u001b[39m, data):\n\u001b[0;32m    119\u001b[0m     \u001b[38;5;28;01mif\u001b[39;00m data\u001b[38;5;241m.\u001b[39mget(\u001b[38;5;124m'\u001b[39m\u001b[38;5;124mserviceErrorCode\u001b[39m\u001b[38;5;124m'\u001b[39m):\n\u001b[1;32m--> 120\u001b[0m         \u001b[38;5;28;01mraise\u001b[39;00m \u001b[38;5;167;01mLookupError\u001b[39;00m(data\u001b[38;5;241m.\u001b[39mget(\u001b[38;5;124m'\u001b[39m\u001b[38;5;124mmessage\u001b[39m\u001b[38;5;124m'\u001b[39m) \u001b[38;5;129;01mor\u001b[39;00m data\u001b[38;5;241m.\u001b[39mget(\u001b[38;5;124m'\u001b[39m\u001b[38;5;124mstatus\u001b[39m\u001b[38;5;124m'\u001b[39m))\n",
      "\u001b[1;31mLookupError\u001b[0m: Not enough permissions to access: GET /me"
     ]
    }
   ],
   "source": [
    "user_details = linkedin_client.get_user_details()"
   ]
  },
  {
   "cell_type": "code",
   "execution_count": 14,
   "metadata": {},
   "outputs": [
    {
     "ename": "NameError",
     "evalue": "name 'self' is not defined",
     "output_type": "error",
     "traceback": [
      "\u001b[1;31m---------------------------------------------------------------------------\u001b[0m",
      "\u001b[1;31mNameError\u001b[0m                                 Traceback (most recent call last)",
      "Cell \u001b[1;32mIn[14], line 1\u001b[0m\n\u001b[1;32m----> 1\u001b[0m \u001b[38;5;28mprint\u001b[39m(\u001b[38;5;124mf\u001b[39m\u001b[38;5;124m\"\u001b[39m\u001b[38;5;124mAccess Token: \u001b[39m\u001b[38;5;132;01m{\u001b[39;00m\u001b[38;5;28mself\u001b[39m\u001b[38;5;241m.\u001b[39maccess_token\u001b[38;5;132;01m}\u001b[39;00m\u001b[38;5;124m\"\u001b[39m)\n",
      "\u001b[1;31mNameError\u001b[0m: name 'self' is not defined"
     ]
    }
   ],
   "source": [
    "print(f\"Access Token: {self.access_token}\")\n"
   ]
  },
  {
   "cell_type": "code",
   "execution_count": null,
   "metadata": {},
   "outputs": [],
   "source": []
  }
 ],
 "metadata": {
  "kernelspec": {
   "display_name": "Python 3",
   "language": "python",
   "name": "python3"
  },
  "language_info": {
   "codemirror_mode": {
    "name": "ipython",
    "version": 3
   },
   "file_extension": ".py",
   "mimetype": "text/x-python",
   "name": "python",
   "nbconvert_exporter": "python",
   "pygments_lexer": "ipython3",
   "version": "3.9.0"
  }
 },
 "nbformat": 4,
 "nbformat_minor": 2
}
