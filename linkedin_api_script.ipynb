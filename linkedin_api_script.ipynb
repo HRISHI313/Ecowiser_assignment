{
 "cells": [
  {
   "cell_type": "code",
   "execution_count": null,
   "metadata": {},
   "outputs": [],
   "source": [
    "token = 'Enter the access token'\n",
    "cookies = 'Enter the cookie that has been generated'"
   ]
  },
  {
   "cell_type": "code",
   "execution_count": 1,
   "metadata": {},
   "outputs": [
    {
     "name": "stdout",
     "output_type": "stream",
     "text": [
      "{\"sub\":\"GahLB6_CfP\",\"email_verified\":true,\"name\":\"berojgaar Larka\",\"locale\":{\"country\":\"US\",\"language\":\"en\"},\"given_name\":\"berojgaar\",\"family_name\":\"Larka\",\"email\":\"h66645507@gmail.com\"}\n"
     ]
    }
   ],
   "source": [
    "import requests\n",
    "\n",
    "url = \"https://api.linkedin.com/v2/userinfo\"\n",
    "\n",
    "payload = {}\n",
    "headers = {\n",
    "    'Authorization': f'Bearer {token}',\n",
    "    'Cookie': f'{cookies}'\n",
    "}\n",
    "\n",
    "response = requests.request(\"GET\", url, headers=headers, data=payload)\n",
    "\n",
    "print(response.text)\n"
   ]
  },
  {
   "cell_type": "code",
   "execution_count": null,
   "metadata": {},
   "outputs": [],
   "source": []
  }
 ],
 "metadata": {
  "kernelspec": {
   "display_name": "Python 3",
   "language": "python",
   "name": "python3"
  },
  "language_info": {
   "codemirror_mode": {
    "name": "ipython",
    "version": 3
   },
   "file_extension": ".py",
   "mimetype": "text/x-python",
   "name": "python",
   "nbconvert_exporter": "python",
   "pygments_lexer": "ipython3",
   "version": "3.9.0"
  }
 },
 "nbformat": 4,
 "nbformat_minor": 2
}
