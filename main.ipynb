{
 "cells": [
  {
   "cell_type": "code",
   "execution_count": 1,
   "metadata": {},
   "outputs": [],
   "source": [
    "# import requests\n",
    "# import csv\n",
    "\n",
    "# def get_linkedin_data(access_token, first_name, last_name):\n",
    "#     # Make a request to the LinkedIn API\n",
    "#     api_url = f'https://api.linkedin.com/v2/people-search?first_name={first_name}&last_name={last_name}'\n",
    "#     headers = {'Authorization': f'Bearer {access_token}'}\n",
    "#     response = requests.get(api_url, headers=headers)\n",
    "\n",
    "#     # Check if the request was successful\n",
    "#     if response.status_code == 200:\n",
    "#         # Parse the API response and extract relevant data for the first 10 search results\n",
    "#         data = response.json().get('elements', [])[:10]\n",
    "#         parsed_data_for_first_10_results = []\n",
    "#         for entry in data:\n",
    "#             parsed_data_for_first_10_results.append({\n",
    "#                 'name': f\"{entry['firstName']} {entry['lastName']}\",\n",
    "#                 'headline': entry.get('headline', ''),\n",
    "#                 'profile_url': entry.get('publicIdentifier', ''),\n",
    "#             })\n",
    "#         return parsed_data_for_first_10_results\n",
    "#     else:\n",
    "#         print(f\"Error: {response.status_code}, {response.text}\")\n",
    "#         return []\n",
    "\n",
    "# def save_to_csv(data, filename):\n",
    "#     # Save the data to a CSV file\n",
    "#     with open(filename, 'w', newline='', encoding='utf-8') as file:\n",
    "#         writer = csv.writer(file)\n",
    "#         # Write header\n",
    "#         writer.writerow(['Name', 'Headline', 'Profile URL'])\n",
    "#         # Write data\n",
    "#         for entry in data:\n",
    "#             writer.writerow([entry['name'], entry['headline'], entry['profile_url']])\n",
    "\n",
    "# def main():\n",
    "#     access_token = 'your_access_token'\n",
    "#     first_name = input(\"Enter user's first name: \")\n",
    "#     last_name = input(\"Enter user's last name: \")\n",
    "\n",
    "#     data = get_linkedin_data(access_token, first_name, last_name)[:5]\n",
    "#     save_to_csv(data, 'linkedin_data.csv')\n",
    "\n"
   ]
  },
  {
   "cell_type": "code",
   "execution_count": 4,
   "metadata": {},
   "outputs": [
    {
     "name": "stdout",
     "output_type": "stream",
     "text": [
      "Error: 401, {\"serviceErrorCode\":65600,\"message\":\"Invalid access token\",\"status\":401}\n"
     ]
    }
   ],
   "source": [
    "import requests\n",
    "\n",
    "def get_current_member_profile(access_token):\n",
    "    api_url = 'https://api.linkedin.com/v2/me'\n",
    "    headers = {'Authorization': f'Bearer {access_token}'}\n",
    "\n",
    "    response = requests.get(api_url, headers=headers)\n",
    "\n",
    "    if response.status_code == 200:\n",
    "        return response.json()\n",
    "    else:\n",
    "        print(f\"Error: {response.status_code}, {response.text}\")\n",
    "        return None\n",
    "\n",
    "# Example usage:\n",
    "access_token = 'your_access_token'\n",
    "profile_data = get_current_member_profile(access_token)\n",
    "\n",
    "if profile_data:\n",
    "    print(profile_data)\n"
   ]
  },
  {
   "cell_type": "code",
   "execution_count": 9,
   "metadata": {},
   "outputs": [
    {
     "name": "stdout",
     "output_type": "stream",
     "text": [
      "Error: 403, {\"serviceErrorCode\":100,\"message\":\"Not enough permissions to access: GET /me\",\"status\":403}\n"
     ]
    }
   ],
   "source": [
    "a = 'AQXtxAftXn-ao9Y15O4eBrAM-fMbVtOnp5cBNJ1BmVeosg5i3GwHt-pYMIQpbkp5QHeOPSdAcup6Y7Fyj107AB_yLM2KApcbl28yP48KzppAPgRM0f5dmjOwZERuGz_6k2xv0NiySBHATWW8j1f6Qi7As2uTxDHNFZPW6X9JzkiQ8WhH-te8sKNlsMiSPJKZpPRv2nbZLuuy43OpuLdxDtnDN41ufZglp6g75YtF75gxWIjN3HSUEROm4YeyoZPtRFSLdgN8dwu4ik0ZqkUDjT-i0A9oCmRMl4Dxsdt1QtEQy57ZkNLxrK0SQB_oPDZZEx4oiID_XMIAmzj-vmg8sVkjFfhwGg'\n",
    "get_current_member_profile(a)"
   ]
  },
  {
   "cell_type": "code",
   "execution_count": null,
   "metadata": {},
   "outputs": [],
   "source": []
  }
 ],
 "metadata": {
  "kernelspec": {
   "display_name": "Python 3",
   "language": "python",
   "name": "python3"
  },
  "language_info": {
   "codemirror_mode": {
    "name": "ipython",
    "version": 3
   },
   "file_extension": ".py",
   "mimetype": "text/x-python",
   "name": "python",
   "nbconvert_exporter": "python",
   "pygments_lexer": "ipython3",
   "version": "3.9.0"
  }
 },
 "nbformat": 4,
 "nbformat_minor": 2
}
