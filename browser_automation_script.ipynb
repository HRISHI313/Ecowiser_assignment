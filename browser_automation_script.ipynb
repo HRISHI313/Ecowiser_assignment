{
 "cells": [
  {
   "cell_type": "code",
   "execution_count": 5,
   "metadata": {},
   "outputs": [],
   "source": []
  },
  {
   "cell_type": "code",
   "execution_count": 7,
   "metadata": {},
   "outputs": [],
   "source": [
    "# IMPORTING LIBRARIES\n",
    "from selenium import webdriver\n",
    "from selenium.webdriver.chrome.service import Service\n",
    "from selenium.webdriver.common.by import By\n",
    "import time\n",
    "from selenium.webdriver.common.keys import Keys\n",
    "import logging\n",
    "logging.basicConfig(filename='logging.log',level=logging.INFO,\n",
    "                    format = '%(asctime)s:%(levelname)s:%(message)s')\n",
    "\n",
    "\n",
    "#STARTING THE CHROME DRIVER\n",
    "chrome_options = webdriver.ChromeOptions()\n",
    "chrome_options.add_argument(f\"webdriver.chrome.driver={chrome_driver_path}\")\n",
    "driver = webdriver.Chrome(options=chrome_options)\n",
    "logging.info('The Chrome Automation has been started')\n"
   ]
  },
  {
   "cell_type": "code",
   "execution_count": 54,
   "metadata": {},
   "outputs": [],
   "source": [
    "# opening the LinedIn URL\n",
    "driver.get('https://www.linkedin.com/home')\n",
    "\n",
    "# Entering the email,password and clicking the submit botton\n",
    "driver.find_element(By.XPATH,\"//input[@id='session_key']\").send_keys(mail)\n",
    "driver.find_element(By.XPATH,\"//input[@id='session_password']\").send_keys(paswd)\n",
    "driver.find_element(By.XPATH,\"//button[@type='submit']\").click()"
   ]
  },
  {
   "cell_type": "code",
   "execution_count": 75,
   "metadata": {},
   "outputs": [],
   "source": [
    "# Searching the Specific first name nad last name\n",
    "\n",
    "search_input = driver.find_element(By.XPATH,\"//input[@placeholder='Search']\")\n",
    "search_input.send_keys(Search_name)\n",
    "\n",
    "search_input.send_keys(Keys.RETURN)\n",
    "\n",
    "time.sleep(5)\n",
    "\n",
    "driver.find_element(By.XPATH,\"//button[@aria-pressed='false'][normalize-space()='People']\").click()\n",
    "time.sleep(5)"
   ]
  },
  {
   "cell_type": "code",
   "execution_count": 76,
   "metadata": {},
   "outputs": [],
   "source": [
    "# Storing all the search name URL in a list.\n",
    "i = 9\n",
    "links = []\n",
    "while i<=19:\n",
    "    href_val = driver.find_element(By.XPATH,f\"(//a)[{i}]\").get_attribute(\"href\")\n",
    "    links.append(href_val)\n",
    "    i+=2"
   ]
  },
  {
   "cell_type": "code",
   "execution_count": 77,
   "metadata": {},
   "outputs": [
    {
     "data": {
      "text/plain": [
       "['https://www.linkedin.com/search/results/people/?keywords=Abishek%20Banerjee&origin=SPELL_CHECK_REPLACE&spellCorrectionEnabled=false',\n",
       " 'https://www.linkedin.com/in/abishek-banerjee?miniProfileUrn=urn%3Ali%3Afs_miniProfile%3AACoAAD_sQd0BgKaAknbLAervH__IEFwwBjkmWJc',\n",
       " 'https://www.linkedin.com/in/abhishek-banerjee-62b15649?miniProfileUrn=urn%3Ali%3Afs_miniProfile%3AACoAAAoqnQMBcQMdLjCNLOM7mWc4Jo_oRgSS8Bs',\n",
       " 'https://www.linkedin.com/in/abhishek-banerjee-097b24a?miniProfileUrn=urn%3Ali%3Afs_miniProfile%3AACoAAAHyIXMBnLcxc4-1vWnK5GdVmrtAZOa8CAg',\n",
       " 'https://www.linkedin.com/in/abhishek-banerjee-b8744a5a?miniProfileUrn=urn%3Ali%3Afs_miniProfile%3AACoAAAyGHhcBOqJRXTC3k3vnwdg3RID-0onKBnA',\n",
       " 'https://www.linkedin.com/in/abhishek-banerjee-461934b1?miniProfileUrn=urn%3Ali%3Afs_miniProfile%3AACoAABfPDIkB78my34vrcMiYlbHR1GMayLu_mm0']"
      ]
     },
     "execution_count": 77,
     "metadata": {},
     "output_type": "execute_result"
    }
   ],
   "source": [
    "links"
   ]
  },
  {
   "cell_type": "code",
   "execution_count": 78,
   "metadata": {},
   "outputs": [],
   "source": [
    "# Creating a CSV file\n",
    "import csv\n",
    "with open('profile.csv','w',newline='') as csvfile:\n",
    "    writer = csv.writer(csvfile)\n",
    "    writer.writerow(['Name','Headline','Location','Connection'])\n"
   ]
  },
  {
   "cell_type": "code",
   "execution_count": 79,
   "metadata": {},
   "outputs": [],
   "source": [
    "# Scrapping all the information stroring it into the CSV\n",
    "for i in range(1,6):\n",
    "    driver.get(links[i])\n",
    "    time.sleep(5)\n",
    "    name = driver.find_element(By.TAG_NAME,\"h1\").text\n",
    "    tag_line = driver.find_element(By.XPATH,\"//div[@class='text-body-medium break-words']\").text\n",
    "    location = driver.find_element(By.XPATH,\"//span[@class='text-body-small inline t-black--light break-words']\").text\n",
    "    conn = driver.find_element(By.XPATH,\"//span[@class='t-bold']\").text\n",
    "\n",
    "    with open('profile.csv','a',newline='') as csvfile:\n",
    "        csvwritter = csv.writer(csvfile)\n",
    "        csvwritter.writerow([name,tag_line,location,conn])\n",
    "    \n",
    "\n"
   ]
  },
  {
   "cell_type": "code",
   "execution_count": null,
   "metadata": {},
   "outputs": [],
   "source": []
  }
 ],
 "metadata": {
  "kernelspec": {
   "display_name": "Python 3",
   "language": "python",
   "name": "python3"
  },
  "language_info": {
   "codemirror_mode": {
    "name": "ipython",
    "version": 3
   },
   "file_extension": ".py",
   "mimetype": "text/x-python",
   "name": "python",
   "nbconvert_exporter": "python",
   "pygments_lexer": "ipython3",
   "version": "3.9.0"
  }
 },
 "nbformat": 4,
 "nbformat_minor": 2
}
