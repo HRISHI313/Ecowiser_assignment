{
 "cells": [
  {
   "cell_type": "code",
   "execution_count": 17,
   "metadata": {},
   "outputs": [],
   "source": [
    "# Enter all the necessary detail below and sit back and relax\n",
    "\n",
    "chrome_driver_path = r\"Enter your Chrome driver path here\"\n",
    "\n",
    "mail = \"LinkedIn email\"\n",
    "paswd = \"LinkedIn password\"\n",
    "\n",
    "Search_name = \"Enter the name you want to search\""
   ]
  },
  {
   "cell_type": "code",
   "execution_count": 18,
   "metadata": {},
   "outputs": [],
   "source": [
    "# IMPORTING LIBRARIES\n",
    "from selenium import webdriver\n",
    "from selenium.webdriver.common.by import By\n",
    "import time\n",
    "from selenium.webdriver.common.keys import Keys\n",
    "import csv\n",
    "import logging\n",
    "logging.basicConfig(filename='logging.log',level=logging.INFO,\n",
    "                    format = '%(asctime)s:%(levelname)s:%(message)s')\n",
    "\n",
    "\n",
    "#STARTING THE CHROME DRIVER\n",
    "chrome_options = webdriver.ChromeOptions()\n",
    "chrome_options.add_argument(f\"webdriver.chrome.driver={chrome_driver_path}\")\n",
    "driver = webdriver.Chrome(options=chrome_options)\n",
    "logging.info('The Chrome Automation has been started')\n"
   ]
  },
  {
   "cell_type": "code",
   "execution_count": 19,
   "metadata": {},
   "outputs": [],
   "source": [
    "# opening the LinedIn URL\n",
    "driver.get('https://www.linkedin.com/home')\n",
    "logging.info(\"LinkedIn has been logged in\")\n",
    "\n",
    "# Entering the email,password and clicking the submit botton\n",
    "try:\n",
    "    driver.find_element(By.XPATH, \"//input[@id='session_key']\").send_keys(mail)\n",
    "    logging.info(\"Email inputted\")\n",
    "\n",
    "    driver.find_element(By.XPATH, \"//input[@id='session_password']\").send_keys(paswd)\n",
    "    logging.info(\"Password inputted\")\n",
    "\n",
    "    driver.find_element(By.XPATH, \"//button[@type='submit']\").click()\n",
    "    logging.info(\"LinkedIn has been logged in\")\n",
    "\n",
    "except Exception as e:\n",
    "    logging.error(f\"An unexpected error occurred: {e}\")\n"
   ]
  },
  {
   "cell_type": "code",
   "execution_count": 20,
   "metadata": {},
   "outputs": [],
   "source": [
    "# Searching the Specific first name nad last name\n",
    "\n",
    "try:\n",
    "    search_input = driver.find_element(By.XPATH,\"//input[@placeholder='Search']\")\n",
    "    search_input.send_keys(Search_name)\n",
    "    logging.info(f\"Search_name: {Search_name}\")\n",
    "\n",
    "    search_input.send_keys(Keys.RETURN)\n",
    "\n",
    "    time.sleep(6)\n",
    "\n",
    "    driver.find_element(By.XPATH,\"//button[@aria-pressed='false'][normalize-space()='People']\").click()\n",
    "    time.sleep(6)\n",
    "\n",
    "except Exception as e:\n",
    "    logging.error(f\"An unexpected error occurred: {e}\")"
   ]
  },
  {
   "cell_type": "code",
   "execution_count": 21,
   "metadata": {},
   "outputs": [],
   "source": [
    "# Storing all the search name URL in a list. If you want 5 search result keep i<=19. If you want \n",
    "# all the 10 search result and keep i<=27\n",
    "try:\n",
    "    i = 9\n",
    "    links = []\n",
    "    while i<=19:\n",
    "        time.sleep(3)\n",
    "        href_val = driver.find_element(By.XPATH,f\"(//a)[{i}]\").get_attribute(\"href\")\n",
    "        time.sleep(3)\n",
    "        links.append(href_val)\n",
    "        i+=2\n",
    "    logging.info(\"All the searched links have been created successfully.\")\n",
    "\n",
    "except Exception as e:\n",
    "    logging.error(f\"An unexpected error occurred: {e}\")\n"
   ]
  },
  {
   "cell_type": "code",
   "execution_count": 22,
   "metadata": {},
   "outputs": [
    {
     "data": {
      "text/plain": [
       "['https://www.linkedin.com/in/dipanwita-das-963778211?miniProfileUrn=urn%3Ali%3Afs_miniProfile%3AACoAADWvVlsBTlt_PzCS16_D--qh22fuE1nRArk',\n",
       " 'https://www.linkedin.com/in/dipanwitad?miniProfileUrn=urn%3Ali%3Afs_miniProfile%3AACoAAASTPvAB-7ifNGsZRJUqVdDVvRNYwmOaug0',\n",
       " 'https://www.linkedin.com/in/dipannitadas?miniProfileUrn=urn%3Ali%3Afs_miniProfile%3AACoAACBqoygBqFAcef_NUppVwXT-xHURFPPWX0I',\n",
       " 'https://www.linkedin.com/in/dipannita-das-9362081b5?miniProfileUrn=urn%3Ali%3Afs_miniProfile%3AACoAADIK4zoBixvh8ljDBc9i4gC5nMWA7H8nwIs',\n",
       " 'https://www.linkedin.com/in/dipanwita-das-322702206?miniProfileUrn=urn%3Ali%3Afs_miniProfile%3AACoAADRuA0oB3rwXvZakmoCuPH7RTwKjjvQBHtE',\n",
       " 'https://www.linkedin.com/in/ACoAADRuA0oB3rwXvZakmoCuPH7RTwKjjvQBHtE?miniProfileUrn=urn%3Ali%3Afs_miniProfile%3AACoAADRuA0oB3rwXvZakmoCuPH7RTwKjjvQBHtE']"
      ]
     },
     "execution_count": 22,
     "metadata": {},
     "output_type": "execute_result"
    }
   ],
   "source": [
    "links"
   ]
  },
  {
   "cell_type": "code",
   "execution_count": 26,
   "metadata": {},
   "outputs": [],
   "source": [
    "# Creating a CSV file\n",
    "try:\n",
    "    with open('profile.csv','w',newline='') as csvfile:\n",
    "        writer = csv.writer(csvfile)\n",
    "        writer.writerow(['Name','Headline','Location','Connection','Profile URL'])\n",
    "    logging.info(\"The csv file with the related feild has been created \")\n",
    "\n",
    "except Exception as e:\n",
    "    logging.error(f\"An unexpected error occurred: {e}\")\n"
   ]
  },
  {
   "cell_type": "code",
   "execution_count": 24,
   "metadata": {},
   "outputs": [],
   "source": [
    "# Scrapping all the information stroring it into the CSV\n",
    "try:\n",
    "    for i in range(1,6):\n",
    "        driver.get(links[i])\n",
    "        logging.info(f'Link-{i} has been successfully opened')\n",
    "        time.sleep(5)\n",
    "        name = driver.find_element(By.TAG_NAME,\"h1\").text\n",
    "        logging.info(\"name\")\n",
    "        tag_line = driver.find_element(By.XPATH,\"//div[@class='text-body-medium break-words']\").text\n",
    "        location = driver.find_element(By.XPATH,\"//span[@class='text-body-small inline t-black--light break-words']\").text\n",
    "        conn = driver.find_element(By.XPATH,\"//span[@class='t-bold']\").text  \n",
    "        logging.info(\"Name,tagline,location and number of connection has been scrapped from the link\")\n",
    "\n",
    "        with open('profile.csv','a',newline='') as csvfile:\n",
    "            csvwritter = csv.writer(csvfile)\n",
    "            csvwritter.writerow([name,tag_line,location,conn,links[i],conn])\n",
    "            logging.info(\"The scrapped data has been appended succesfully in the csv\")\n",
    "\n",
    "    logging.info(\"--------------------------------------------------------------\")\n",
    "\n",
    "except Exception as e:\n",
    "    logging.error(f\"An unexpected error occurred: {e}\")\n",
    "    \n",
    "\n"
   ]
  },
  {
   "cell_type": "code",
   "execution_count": null,
   "metadata": {},
   "outputs": [],
   "source": []
  }
 ],
 "metadata": {
  "kernelspec": {
   "display_name": "Python 3",
   "language": "python",
   "name": "python3"
  },
  "language_info": {
   "codemirror_mode": {
    "name": "ipython",
    "version": 3
   },
   "file_extension": ".py",
   "mimetype": "text/x-python",
   "name": "python",
   "nbconvert_exporter": "python",
   "pygments_lexer": "ipython3",
   "version": "3.9.0"
  }
 },
 "nbformat": 4,
 "nbformat_minor": 2
}
