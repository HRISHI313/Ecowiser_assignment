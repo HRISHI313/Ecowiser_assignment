{
 "cells": [
  {
   "cell_type": "code",
   "execution_count": 67,
   "metadata": {},
   "outputs": [],
   "source": [
    "from selenium import webdriver\n",
    "from selenium.webdriver.chrome.service import Service\n",
    "from selenium.webdriver.common.by import By\n",
    "import time\n",
    "from selenium.webdriver.common.keys import Keys\n",
    "\n",
    "chrome_driver_path = r\"D:\\chromedriver.exe\"\n",
    "chrome_options = webdriver.ChromeOptions()\n",
    "chrome_options.add_argument(f\"webdriver.chrome.driver={chrome_driver_path}\")\n",
    "driver = webdriver.Chrome(options=chrome_options)\n"
   ]
  },
  {
   "cell_type": "code",
   "execution_count": 68,
   "metadata": {},
   "outputs": [],
   "source": [
    "driver.get('https://www.linkedin.com/home')"
   ]
  },
  {
   "cell_type": "code",
   "execution_count": 69,
   "metadata": {},
   "outputs": [],
   "source": [
    "mail = \"h66645507@gmail.com\"\n",
    "paswd = \"JH!k)v6%,AeRKz?\""
   ]
  },
  {
   "cell_type": "code",
   "execution_count": 70,
   "metadata": {},
   "outputs": [],
   "source": [
    "driver.find_element(By.XPATH,\"//input[@id='session_key']\").send_keys(mail)\n",
    "driver.find_element(By.XPATH,\"//input[@id='session_password']\").send_keys(paswd)\n",
    "driver.find_element(By.XPATH,\"//button[@type='submit']\").click()"
   ]
  },
  {
   "cell_type": "code",
   "execution_count": 96,
   "metadata": {},
   "outputs": [],
   "source": [
    "Search_name = \"Abishek Banerjee\""
   ]
  },
  {
   "cell_type": "code",
   "execution_count": 97,
   "metadata": {},
   "outputs": [],
   "source": [
    "search_input = driver.find_element(By.XPATH,\"//input[@placeholder='Search']\")\n",
    "search_input.send_keys(Search_name)\n",
    "\n",
    "search_input.send_keys(Keys.RETURN)"
   ]
  },
  {
   "cell_type": "code",
   "execution_count": 98,
   "metadata": {},
   "outputs": [],
   "source": [
    "driver.find_element(By.XPATH,\"//button[@aria-pressed='false'][normalize-space()='People']\").click()"
   ]
  },
  {
   "cell_type": "code",
   "execution_count": 100,
   "metadata": {},
   "outputs": [],
   "source": [
    "i = 9\n",
    "k = []\n",
    "while i<=27:\n",
    "    a = driver.find_element(By.XPATH,f\"(//a)[{i}]\").get_attribute(\"href\")\n",
    "    k.append(a)\n",
    "    i+=2\n",
    "\n"
   ]
  },
  {
   "cell_type": "code",
   "execution_count": 101,
   "metadata": {},
   "outputs": [
    {
     "data": {
      "text/plain": [
       "['https://www.linkedin.com/in/abishek-banerjee?miniProfileUrn=urn%3Ali%3Afs_miniProfile%3AACoAAD_sQd0BgKaAknbLAervH__IEFwwBjkmWJc',\n",
       " 'https://www.linkedin.com/in/abhishek-banerjee-461934b1?miniProfileUrn=urn%3Ali%3Afs_miniProfile%3AACoAABfPDIkB78my34vrcMiYlbHR1GMayLu_mm0',\n",
       " 'https://www.linkedin.com/in/abhishek-banerjee-097b24a?miniProfileUrn=urn%3Ali%3Afs_miniProfile%3AACoAAAHyIXMBnLcxc4-1vWnK5GdVmrtAZOa8CAg',\n",
       " 'https://www.linkedin.com/in/abhishek-banerjee-96670b5?miniProfileUrn=urn%3Ali%3Afs_miniProfile%3AACoAAAD-s54BTvShUN3hqkTfS5QIOEA4v8hf8eM',\n",
       " 'https://www.linkedin.com/in/abhishek-banerjee-b8744a5a?miniProfileUrn=urn%3Ali%3Afs_miniProfile%3AACoAAAyGHhcBOqJRXTC3k3vnwdg3RID-0onKBnA',\n",
       " 'https://www.linkedin.com/in/abhishek-banerjee-62b15649?miniProfileUrn=urn%3Ali%3Afs_miniProfile%3AACoAAAoqnQMBcQMdLjCNLOM7mWc4Jo_oRgSS8Bs',\n",
       " 'https://www.linkedin.com/in/abhishek-banerjee-875894232?miniProfileUrn=urn%3Ali%3Afs_miniProfile%3AACoAADomuNkBDDRz_KT2FoCtJ2RVipPLkyRx_GE',\n",
       " 'https://www.linkedin.com/in/abhishek-banerjee-a0885b20?miniProfileUrn=urn%3Ali%3Afs_miniProfile%3AACoAAARlxOgBmDz1nwFsK0Smmj0EuBXiU2uj_ys',\n",
       " 'https://www.linkedin.com/in/abhishek-banerjee-07003714?miniProfileUrn=urn%3Ali%3Afs_miniProfile%3AACoAAALaIpQBd7C2m-0Mjb9hgbhGuTGhshcTG2Q',\n",
       " 'https://www.linkedin.com/in/abhishek-banerjee-025636218?miniProfileUrn=urn%3Ali%3Afs_miniProfile%3AACoAADbpI50BfNi28ynDCO4IqKPHbH_FXkntGBg']"
      ]
     },
     "execution_count": 101,
     "metadata": {},
     "output_type": "execute_result"
    }
   ],
   "source": [
    "k"
   ]
  },
  {
   "cell_type": "code",
   "execution_count": 102,
   "metadata": {},
   "outputs": [],
   "source": [
    "import csv\n",
    "with open('profile.csv','w',newline='') as csvfile:\n",
    "    writer = csv.writer(csvfile)\n",
    "    writer.writerow(['Name','Headline','Location','Connection'])\n"
   ]
  },
  {
   "cell_type": "code",
   "execution_count": 103,
   "metadata": {},
   "outputs": [
    {
     "ename": "NoSuchElementException",
     "evalue": "Message: no such element: Unable to locate element: {\"method\":\"xpath\",\"selector\":\"//span[@class='t-bold']\"}\n  (Session info: chrome=120.0.6099.225); For documentation on this error, please visit: https://www.selenium.dev/documentation/webdriver/troubleshooting/errors#no-such-element-exception\nStacktrace:\n\tGetHandleVerifier [0x00007FF765232142+3514994]\n\t(No symbol) [0x00007FF764E50CE2]\n\t(No symbol) [0x00007FF764CF76AA]\n\t(No symbol) [0x00007FF764D41860]\n\t(No symbol) [0x00007FF764D4197C]\n\t(No symbol) [0x00007FF764D84EE7]\n\t(No symbol) [0x00007FF764D6602F]\n\t(No symbol) [0x00007FF764D828F6]\n\t(No symbol) [0x00007FF764D65D93]\n\t(No symbol) [0x00007FF764D34BDC]\n\t(No symbol) [0x00007FF764D35C64]\n\tGetHandleVerifier [0x00007FF76525E16B+3695259]\n\tGetHandleVerifier [0x00007FF7652B6737+4057191]\n\tGetHandleVerifier [0x00007FF7652AE4E3+4023827]\n\tGetHandleVerifier [0x00007FF764F804F9+689705]\n\t(No symbol) [0x00007FF764E5C048]\n\t(No symbol) [0x00007FF764E58044]\n\t(No symbol) [0x00007FF764E581C9]\n\t(No symbol) [0x00007FF764E488C4]\n\tBaseThreadInitThunk [0x00007FF82CC77344+20]\n\tRtlUserThreadStart [0x00007FF82DA626B1+33]\n",
     "output_type": "error",
     "traceback": [
      "\u001b[1;31m---------------------------------------------------------------------------\u001b[0m",
      "\u001b[1;31mNoSuchElementException\u001b[0m                    Traceback (most recent call last)",
      "Cell \u001b[1;32mIn[103], line 6\u001b[0m\n\u001b[0;32m      4\u001b[0m tag_line \u001b[38;5;241m=\u001b[39m driver\u001b[38;5;241m.\u001b[39mfind_element(By\u001b[38;5;241m.\u001b[39mXPATH,\u001b[38;5;124m\"\u001b[39m\u001b[38;5;124m//div[@class=\u001b[39m\u001b[38;5;124m'\u001b[39m\u001b[38;5;124mtext-body-medium break-words\u001b[39m\u001b[38;5;124m'\u001b[39m\u001b[38;5;124m]\u001b[39m\u001b[38;5;124m\"\u001b[39m)\u001b[38;5;241m.\u001b[39mtext\n\u001b[0;32m      5\u001b[0m location \u001b[38;5;241m=\u001b[39m driver\u001b[38;5;241m.\u001b[39mfind_element(By\u001b[38;5;241m.\u001b[39mXPATH,\u001b[38;5;124m\"\u001b[39m\u001b[38;5;124m//span[@class=\u001b[39m\u001b[38;5;124m'\u001b[39m\u001b[38;5;124mtext-body-small inline t-black--light break-words\u001b[39m\u001b[38;5;124m'\u001b[39m\u001b[38;5;124m]\u001b[39m\u001b[38;5;124m\"\u001b[39m)\u001b[38;5;241m.\u001b[39mtext\n\u001b[1;32m----> 6\u001b[0m conn \u001b[38;5;241m=\u001b[39m \u001b[43mdriver\u001b[49m\u001b[38;5;241;43m.\u001b[39;49m\u001b[43mfind_element\u001b[49m\u001b[43m(\u001b[49m\u001b[43mBy\u001b[49m\u001b[38;5;241;43m.\u001b[39;49m\u001b[43mXPATH\u001b[49m\u001b[43m,\u001b[49m\u001b[38;5;124;43m\"\u001b[39;49m\u001b[38;5;124;43m//span[@class=\u001b[39;49m\u001b[38;5;124;43m'\u001b[39;49m\u001b[38;5;124;43mt-bold\u001b[39;49m\u001b[38;5;124;43m'\u001b[39;49m\u001b[38;5;124;43m]\u001b[39;49m\u001b[38;5;124;43m\"\u001b[39;49m\u001b[43m)\u001b[49m\u001b[38;5;241m.\u001b[39mtext\n\u001b[0;32m      8\u001b[0m \u001b[38;5;28;01mwith\u001b[39;00m \u001b[38;5;28mopen\u001b[39m(\u001b[38;5;124m'\u001b[39m\u001b[38;5;124mprofile.csv\u001b[39m\u001b[38;5;124m'\u001b[39m,\u001b[38;5;124m'\u001b[39m\u001b[38;5;124ma\u001b[39m\u001b[38;5;124m'\u001b[39m,newline\u001b[38;5;241m=\u001b[39m\u001b[38;5;124m'\u001b[39m\u001b[38;5;124m'\u001b[39m) \u001b[38;5;28;01mas\u001b[39;00m csvfile:\n\u001b[0;32m      9\u001b[0m     csvwritter \u001b[38;5;241m=\u001b[39m csv\u001b[38;5;241m.\u001b[39mwriter(csvfile)\n",
      "File \u001b[1;32mf:\\Python 3.9\\lib\\site-packages\\selenium\\webdriver\\remote\\webdriver.py:742\u001b[0m, in \u001b[0;36mWebDriver.find_element\u001b[1;34m(self, by, value)\u001b[0m\n\u001b[0;32m    739\u001b[0m     by \u001b[38;5;241m=\u001b[39m By\u001b[38;5;241m.\u001b[39mCSS_SELECTOR\n\u001b[0;32m    740\u001b[0m     value \u001b[38;5;241m=\u001b[39m \u001b[38;5;124mf\u001b[39m\u001b[38;5;124m'\u001b[39m\u001b[38;5;124m[name=\u001b[39m\u001b[38;5;124m\"\u001b[39m\u001b[38;5;132;01m{\u001b[39;00mvalue\u001b[38;5;132;01m}\u001b[39;00m\u001b[38;5;124m\"\u001b[39m\u001b[38;5;124m]\u001b[39m\u001b[38;5;124m'\u001b[39m\n\u001b[1;32m--> 742\u001b[0m \u001b[38;5;28;01mreturn\u001b[39;00m \u001b[38;5;28;43mself\u001b[39;49m\u001b[38;5;241;43m.\u001b[39;49m\u001b[43mexecute\u001b[49m\u001b[43m(\u001b[49m\u001b[43mCommand\u001b[49m\u001b[38;5;241;43m.\u001b[39;49m\u001b[43mFIND_ELEMENT\u001b[49m\u001b[43m,\u001b[49m\u001b[43m \u001b[49m\u001b[43m{\u001b[49m\u001b[38;5;124;43m\"\u001b[39;49m\u001b[38;5;124;43musing\u001b[39;49m\u001b[38;5;124;43m\"\u001b[39;49m\u001b[43m:\u001b[49m\u001b[43m \u001b[49m\u001b[43mby\u001b[49m\u001b[43m,\u001b[49m\u001b[43m \u001b[49m\u001b[38;5;124;43m\"\u001b[39;49m\u001b[38;5;124;43mvalue\u001b[39;49m\u001b[38;5;124;43m\"\u001b[39;49m\u001b[43m:\u001b[49m\u001b[43m \u001b[49m\u001b[43mvalue\u001b[49m\u001b[43m}\u001b[49m\u001b[43m)\u001b[49m[\u001b[38;5;124m\"\u001b[39m\u001b[38;5;124mvalue\u001b[39m\u001b[38;5;124m\"\u001b[39m]\n",
      "File \u001b[1;32mf:\\Python 3.9\\lib\\site-packages\\selenium\\webdriver\\remote\\webdriver.py:348\u001b[0m, in \u001b[0;36mWebDriver.execute\u001b[1;34m(self, driver_command, params)\u001b[0m\n\u001b[0;32m    346\u001b[0m response \u001b[38;5;241m=\u001b[39m \u001b[38;5;28mself\u001b[39m\u001b[38;5;241m.\u001b[39mcommand_executor\u001b[38;5;241m.\u001b[39mexecute(driver_command, params)\n\u001b[0;32m    347\u001b[0m \u001b[38;5;28;01mif\u001b[39;00m response:\n\u001b[1;32m--> 348\u001b[0m     \u001b[38;5;28;43mself\u001b[39;49m\u001b[38;5;241;43m.\u001b[39;49m\u001b[43merror_handler\u001b[49m\u001b[38;5;241;43m.\u001b[39;49m\u001b[43mcheck_response\u001b[49m\u001b[43m(\u001b[49m\u001b[43mresponse\u001b[49m\u001b[43m)\u001b[49m\n\u001b[0;32m    349\u001b[0m     response[\u001b[38;5;124m\"\u001b[39m\u001b[38;5;124mvalue\u001b[39m\u001b[38;5;124m\"\u001b[39m] \u001b[38;5;241m=\u001b[39m \u001b[38;5;28mself\u001b[39m\u001b[38;5;241m.\u001b[39m_unwrap_value(response\u001b[38;5;241m.\u001b[39mget(\u001b[38;5;124m\"\u001b[39m\u001b[38;5;124mvalue\u001b[39m\u001b[38;5;124m\"\u001b[39m, \u001b[38;5;28;01mNone\u001b[39;00m))\n\u001b[0;32m    350\u001b[0m     \u001b[38;5;28;01mreturn\u001b[39;00m response\n",
      "File \u001b[1;32mf:\\Python 3.9\\lib\\site-packages\\selenium\\webdriver\\remote\\errorhandler.py:229\u001b[0m, in \u001b[0;36mErrorHandler.check_response\u001b[1;34m(self, response)\u001b[0m\n\u001b[0;32m    227\u001b[0m         alert_text \u001b[38;5;241m=\u001b[39m value[\u001b[38;5;124m\"\u001b[39m\u001b[38;5;124malert\u001b[39m\u001b[38;5;124m\"\u001b[39m]\u001b[38;5;241m.\u001b[39mget(\u001b[38;5;124m\"\u001b[39m\u001b[38;5;124mtext\u001b[39m\u001b[38;5;124m\"\u001b[39m)\n\u001b[0;32m    228\u001b[0m     \u001b[38;5;28;01mraise\u001b[39;00m exception_class(message, screen, stacktrace, alert_text)  \u001b[38;5;66;03m# type: ignore[call-arg]  # mypy is not smart enough here\u001b[39;00m\n\u001b[1;32m--> 229\u001b[0m \u001b[38;5;28;01mraise\u001b[39;00m exception_class(message, screen, stacktrace)\n",
      "\u001b[1;31mNoSuchElementException\u001b[0m: Message: no such element: Unable to locate element: {\"method\":\"xpath\",\"selector\":\"//span[@class='t-bold']\"}\n  (Session info: chrome=120.0.6099.225); For documentation on this error, please visit: https://www.selenium.dev/documentation/webdriver/troubleshooting/errors#no-such-element-exception\nStacktrace:\n\tGetHandleVerifier [0x00007FF765232142+3514994]\n\t(No symbol) [0x00007FF764E50CE2]\n\t(No symbol) [0x00007FF764CF76AA]\n\t(No symbol) [0x00007FF764D41860]\n\t(No symbol) [0x00007FF764D4197C]\n\t(No symbol) [0x00007FF764D84EE7]\n\t(No symbol) [0x00007FF764D6602F]\n\t(No symbol) [0x00007FF764D828F6]\n\t(No symbol) [0x00007FF764D65D93]\n\t(No symbol) [0x00007FF764D34BDC]\n\t(No symbol) [0x00007FF764D35C64]\n\tGetHandleVerifier [0x00007FF76525E16B+3695259]\n\tGetHandleVerifier [0x00007FF7652B6737+4057191]\n\tGetHandleVerifier [0x00007FF7652AE4E3+4023827]\n\tGetHandleVerifier [0x00007FF764F804F9+689705]\n\t(No symbol) [0x00007FF764E5C048]\n\t(No symbol) [0x00007FF764E58044]\n\t(No symbol) [0x00007FF764E581C9]\n\t(No symbol) [0x00007FF764E488C4]\n\tBaseThreadInitThunk [0x00007FF82CC77344+20]\n\tRtlUserThreadStart [0x00007FF82DA626B1+33]\n"
     ]
    }
   ],
   "source": [
    "for i in range(0,10):\n",
    "    driver.get(k[i])\n",
    "    name = driver.find_element(By.TAG_NAME,\"h1\").text\n",
    "    tag_line = driver.find_element(By.XPATH,\"//div[@class='text-body-medium break-words']\").text\n",
    "    location = driver.find_element(By.XPATH,\"//span[@class='text-body-small inline t-black--light break-words']\").text\n",
    "    conn = driver.find_element(By.XPATH,\"//span[@class='t-bold']\").text\n",
    "\n",
    "    with open('profile.csv','a',newline='') as csvfile:\n",
    "        csvwritter = csv.writer(csvfile)\n",
    "        csvwritter.writerow([name,tag_line,location,conn])\n",
    "    \n",
    "\n"
   ]
  },
  {
   "cell_type": "code",
   "execution_count": null,
   "metadata": {},
   "outputs": [],
   "source": []
  }
 ],
 "metadata": {
  "kernelspec": {
   "display_name": "Python 3",
   "language": "python",
   "name": "python3"
  },
  "language_info": {
   "codemirror_mode": {
    "name": "ipython",
    "version": 3
   },
   "file_extension": ".py",
   "mimetype": "text/x-python",
   "name": "python",
   "nbconvert_exporter": "python",
   "pygments_lexer": "ipython3",
   "version": "3.9.0"
  }
 },
 "nbformat": 4,
 "nbformat_minor": 2
}
