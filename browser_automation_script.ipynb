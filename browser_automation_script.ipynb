{
 "cells": [
  {
   "cell_type": "code",
   "execution_count": 80,
   "metadata": {},
   "outputs": [],
   "source": [
    "from selenium import webdriver\n",
    "from selenium.webdriver.chrome.service import Service\n",
    "from selenium.webdriver.common.by import By\n",
    "import time\n",
    "from selenium.webdriver.common.keys import Keys\n",
    "\n",
    "chrome_driver_path = r\"D:\\chromedriver.exe\"\n",
    "chrome_options = webdriver.ChromeOptions()\n",
    "chrome_options.add_argument(f\"webdriver.chrome.driver={chrome_driver_path}\")\n",
    "driver = webdriver.Chrome(options=chrome_options)\n"
   ]
  },
  {
   "cell_type": "code",
   "execution_count": 81,
   "metadata": {},
   "outputs": [],
   "source": [
    "driver.get('https://www.linkedin.com/home')"
   ]
  },
  {
   "cell_type": "code",
   "execution_count": 82,
   "metadata": {},
   "outputs": [],
   "source": [
    "mail = \"h66645507@gmail.com\"\n",
    "paswd = \"JH!k)v6%,AeRKz?\""
   ]
  },
  {
   "cell_type": "code",
   "execution_count": 83,
   "metadata": {},
   "outputs": [],
   "source": [
    "driver.find_element(By.XPATH,\"//input[@id='session_key']\").send_keys(mail)\n",
    "driver.find_element(By.XPATH,\"//input[@id='session_password']\").send_keys(paswd)\n",
    "driver.find_element(By.XPATH,\"//button[@type='submit']\").click()"
   ]
  },
  {
   "cell_type": "code",
   "execution_count": 84,
   "metadata": {},
   "outputs": [],
   "source": [
    "Search_name = \"Abishek Banerjee\""
   ]
  },
  {
   "cell_type": "code",
   "execution_count": 85,
   "metadata": {},
   "outputs": [],
   "source": [
    "search_input = driver.find_element(By.XPATH,\"//input[@placeholder='Search']\")\n",
    "search_input.send_keys(\"Abishek Banerjee\")\n",
    "\n",
    "search_input.send_keys(Keys.RETURN)"
   ]
  },
  {
   "cell_type": "code",
   "execution_count": 87,
   "metadata": {},
   "outputs": [],
   "source": [
    "driver.find_element(By.XPATH,\"//button[@aria-pressed='false'][normalize-space()='People']\").click()"
   ]
  },
  {
   "cell_type": "code",
   "execution_count": 111,
   "metadata": {},
   "outputs": [],
   "source": [
    "i = 9\n",
    "k = []\n",
    "while i<=27:\n",
    "    a = driver.find_element(By.XPATH,f\"(//a)[{i}]\").get_attribute(\"href\")\n",
    "    k.append(a)\n",
    "    i+=2\n",
    "\n"
   ]
  },
  {
   "cell_type": "code",
   "execution_count": 112,
   "metadata": {},
   "outputs": [
    {
     "data": {
      "text/plain": [
       "['https://www.linkedin.com/in/abishek-banerjee?miniProfileUrn=urn%3Ali%3Afs_miniProfile%3AACoAAD_sQd0BgKaAknbLAervH__IEFwwBjkmWJc',\n",
       " 'https://www.linkedin.com/in/abhishek-banerjee-461934b1?miniProfileUrn=urn%3Ali%3Afs_miniProfile%3AACoAABfPDIkB78my34vrcMiYlbHR1GMayLu_mm0',\n",
       " 'https://www.linkedin.com/in/abhishek-banerjee-097b24a?miniProfileUrn=urn%3Ali%3Afs_miniProfile%3AACoAAAHyIXMBnLcxc4-1vWnK5GdVmrtAZOa8CAg',\n",
       " 'https://www.linkedin.com/in/abhishek-banerjee-96670b5?miniProfileUrn=urn%3Ali%3Afs_miniProfile%3AACoAAAD-s54BTvShUN3hqkTfS5QIOEA4v8hf8eM',\n",
       " 'https://www.linkedin.com/in/abhishek-banerjee-b8744a5a?miniProfileUrn=urn%3Ali%3Afs_miniProfile%3AACoAAAyGHhcBOqJRXTC3k3vnwdg3RID-0onKBnA',\n",
       " 'https://www.linkedin.com/in/abhishek-banerjee-62b15649?miniProfileUrn=urn%3Ali%3Afs_miniProfile%3AACoAAAoqnQMBcQMdLjCNLOM7mWc4Jo_oRgSS8Bs',\n",
       " 'https://www.linkedin.com/in/abhishek-banerjee-875894232?miniProfileUrn=urn%3Ali%3Afs_miniProfile%3AACoAADomuNkBDDRz_KT2FoCtJ2RVipPLkyRx_GE',\n",
       " 'https://www.linkedin.com/in/abhishek-banerjee-a0885b20?miniProfileUrn=urn%3Ali%3Afs_miniProfile%3AACoAAARlxOgBmDz1nwFsK0Smmj0EuBXiU2uj_ys',\n",
       " 'https://www.linkedin.com/in/abhishek-banerjee-07003714?miniProfileUrn=urn%3Ali%3Afs_miniProfile%3AACoAAALaIpQBd7C2m-0Mjb9hgbhGuTGhshcTG2Q',\n",
       " 'https://www.linkedin.com/in/abhishek-banerjee-025636218?miniProfileUrn=urn%3Ali%3Afs_miniProfile%3AACoAADbpI50BfNi28ynDCO4IqKPHbH_FXkntGBg']"
      ]
     },
     "execution_count": 112,
     "metadata": {},
     "output_type": "execute_result"
    }
   ],
   "source": [
    "k"
   ]
  },
  {
   "cell_type": "code",
   "execution_count": 113,
   "metadata": {},
   "outputs": [],
   "source": [
    "driver.quit()"
   ]
  },
  {
   "cell_type": "code",
   "execution_count": null,
   "metadata": {},
   "outputs": [],
   "source": []
  }
 ],
 "metadata": {
  "kernelspec": {
   "display_name": "Python 3",
   "language": "python",
   "name": "python3"
  },
  "language_info": {
   "codemirror_mode": {
    "name": "ipython",
    "version": 3
   },
   "file_extension": ".py",
   "mimetype": "text/x-python",
   "name": "python",
   "nbconvert_exporter": "python",
   "pygments_lexer": "ipython3",
   "version": "3.9.0"
  }
 },
 "nbformat": 4,
 "nbformat_minor": 2
}
