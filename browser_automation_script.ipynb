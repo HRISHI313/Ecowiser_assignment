{
 "cells": [
  {
   "cell_type": "code",
   "execution_count": 1,
   "metadata": {},
   "outputs": [],
   "source": [
    "from selenium import webdriver\n",
    "import time\n",
    "import pandas as pd\n",
    "import os\n",
    "from bs4 import BeautifulSoup as soup\n",
    "\n",
    "from selenium.webdriver.support.select import Select\n",
    "from selenium.webdriver.chrome.service import Service\n",
    "from selenium.webdriver.support.ui import WebDriverWait\n",
    "from selenium.webdriver.common.by import By\n",
    "from selenium.webdriver.support import expected_conditions as EC\n",
    "from selenium.webdriver.common.keys import Keys\n",
    "\n"
   ]
  },
  {
   "cell_type": "code",
   "execution_count": 2,
   "metadata": {},
   "outputs": [],
   "source": [
    "url = \"https://www.linkedin.com/login\""
   ]
  },
  {
   "cell_type": "code",
   "execution_count": 3,
   "metadata": {},
   "outputs": [],
   "source": [
    "\n",
    "from selenium import webdriver\n",
    "\n",
    "# Specify the path to the ChromeDriver executable\n",
    "chrome_driver_path = r\"D:\\chromedriver.exe\"\n",
    "\n",
    "# Create ChromeOptions\n",
    "chrome_options = webdriver.ChromeOptions()\n",
    "chrome_options.add_argument(f\"webdriver.chrome.driver={chrome_driver_path}\")\n",
    "\n",
    "# Create a Chrome WebDriver instance with ChromeOptions\n",
    "driver = webdriver.Chrome(options=chrome_options)\n",
    "\n",
    "driver.get(url)\n",
    "\n",
    "email_input = driver.find_element(By.ID,\"username\")\n",
    "email_input.send_keys(\"h66645507@gmail.com\")\n",
    "\n",
    "password_input = driver.find_element(By.ID,\"password\")\n",
    "password_input.send_keys(\"JH!k)v6%,AeRKz?\")\n",
    "\n",
    "login_button = driver.find_element(By.XPATH, \"//button[@type='submit']\")\n",
    "login_button.click()\n",
    "\n",
    "\n",
    "    \n"
   ]
  },
  {
   "cell_type": "code",
   "execution_count": 49,
   "metadata": {},
   "outputs": [
    {
     "name": "stdout",
     "output_type": "stream",
     "text": [
      "https://www.linkedin.com/in/abishek-banerjee?miniProfileUrn=urn%3Ali%3Afs_miniProfile%3AACoAAD_sQd0BgKaAknbLAervH__IEFwwBjkmWJc\n",
      "https://www.linkedin.com/in/abhishek-banerjee-461934b1?miniProfileUrn=urn%3Ali%3Afs_miniProfile%3AACoAABfPDIkB78my34vrcMiYlbHR1GMayLu_mm0\n",
      "https://www.linkedin.com/in/abhishek-banerjee-097b24a?miniProfileUrn=urn%3Ali%3Afs_miniProfile%3AACoAAAHyIXMBnLcxc4-1vWnK5GdVmrtAZOa8CAg\n",
      "https://www.linkedin.com/in/abhishek-banerjee-96670b5?miniProfileUrn=urn%3Ali%3Afs_miniProfile%3AACoAAAD-s54BTvShUN3hqkTfS5QIOEA4v8hf8eM\n"
     ]
    },
    {
     "ename": "StaleElementReferenceException",
     "evalue": "Message: stale element reference: stale element not found\n  (Session info: chrome=120.0.6099.218); For documentation on this error, please visit: https://www.selenium.dev/documentation/webdriver/troubleshooting/errors#stale-element-reference-exception\nStacktrace:\n\tGetHandleVerifier [0x00007FF701F22142+3514994]\n\t(No symbol) [0x00007FF701B40CE2]\n\t(No symbol) [0x00007FF7019E76AA]\n\t(No symbol) [0x00007FF7019ECFC0]\n\t(No symbol) [0x00007FF7019EF6F7]\n\t(No symbol) [0x00007FF701A7316B]\n\t(No symbol) [0x00007FF701A55FEA]\n\t(No symbol) [0x00007FF701A728F6]\n\t(No symbol) [0x00007FF701A55D93]\n\t(No symbol) [0x00007FF701A24BDC]\n\t(No symbol) [0x00007FF701A25C64]\n\tGetHandleVerifier [0x00007FF701F4E16B+3695259]\n\tGetHandleVerifier [0x00007FF701FA6737+4057191]\n\tGetHandleVerifier [0x00007FF701F9E4E3+4023827]\n\tGetHandleVerifier [0x00007FF701C704F9+689705]\n\t(No symbol) [0x00007FF701B4C048]\n\t(No symbol) [0x00007FF701B48044]\n\t(No symbol) [0x00007FF701B481C9]\n\t(No symbol) [0x00007FF701B388C4]\n\tBaseThreadInitThunk [0x00007FF82CC77344+20]\n\tRtlUserThreadStart [0x00007FF82DA626B1+33]\n",
     "output_type": "error",
     "traceback": [
      "\u001b[1;31m---------------------------------------------------------------------------\u001b[0m",
      "\u001b[1;31mStaleElementReferenceException\u001b[0m            Traceback (most recent call last)",
      "Cell \u001b[1;32mIn[49], line 24\u001b[0m\n\u001b[0;32m     22\u001b[0m driver\u001b[38;5;241m.\u001b[39mimplicitly_wait(\u001b[38;5;241m5\u001b[39m)\n\u001b[0;32m     23\u001b[0m input_res \u001b[38;5;241m=\u001b[39m driver\u001b[38;5;241m.\u001b[39mfind_element(By\u001b[38;5;241m.\u001b[39mXPATH,value\u001b[38;5;241m=\u001b[39ma[i])\n\u001b[1;32m---> 24\u001b[0m \u001b[38;5;28mprint\u001b[39m(\u001b[43minput_res\u001b[49m\u001b[38;5;241;43m.\u001b[39;49m\u001b[43mget_attribute\u001b[49m\u001b[43m(\u001b[49m\u001b[38;5;124;43m'\u001b[39;49m\u001b[38;5;124;43mhref\u001b[39;49m\u001b[38;5;124;43m'\u001b[39;49m\u001b[43m)\u001b[49m)\n\u001b[0;32m     25\u001b[0m i\u001b[38;5;241m+\u001b[39m\u001b[38;5;241m=\u001b[39m\u001b[38;5;241m1\u001b[39m\n",
      "File \u001b[1;32mf:\\Python 3.9\\lib\\site-packages\\selenium\\webdriver\\remote\\webelement.py:178\u001b[0m, in \u001b[0;36mWebElement.get_attribute\u001b[1;34m(self, name)\u001b[0m\n\u001b[0;32m    176\u001b[0m \u001b[38;5;28;01mif\u001b[39;00m getAttribute_js \u001b[38;5;129;01mis\u001b[39;00m \u001b[38;5;28;01mNone\u001b[39;00m:\n\u001b[0;32m    177\u001b[0m     _load_js()\n\u001b[1;32m--> 178\u001b[0m attribute_value \u001b[38;5;241m=\u001b[39m \u001b[38;5;28;43mself\u001b[39;49m\u001b[38;5;241;43m.\u001b[39;49m\u001b[43mparent\u001b[49m\u001b[38;5;241;43m.\u001b[39;49m\u001b[43mexecute_script\u001b[49m\u001b[43m(\u001b[49m\n\u001b[0;32m    179\u001b[0m \u001b[43m    \u001b[49m\u001b[38;5;124;43mf\u001b[39;49m\u001b[38;5;124;43m\"\u001b[39;49m\u001b[38;5;124;43m/* getAttribute */return (\u001b[39;49m\u001b[38;5;132;43;01m{\u001b[39;49;00m\u001b[43mgetAttribute_js\u001b[49m\u001b[38;5;132;43;01m}\u001b[39;49;00m\u001b[38;5;124;43m).apply(null, arguments);\u001b[39;49m\u001b[38;5;124;43m\"\u001b[39;49m\u001b[43m,\u001b[49m\u001b[43m \u001b[49m\u001b[38;5;28;43mself\u001b[39;49m\u001b[43m,\u001b[49m\u001b[43m \u001b[49m\u001b[43mname\u001b[49m\n\u001b[0;32m    180\u001b[0m \u001b[43m\u001b[49m\u001b[43m)\u001b[49m\n\u001b[0;32m    181\u001b[0m \u001b[38;5;28;01mreturn\u001b[39;00m attribute_value\n",
      "File \u001b[1;32mf:\\Python 3.9\\lib\\site-packages\\selenium\\webdriver\\remote\\webdriver.py:408\u001b[0m, in \u001b[0;36mWebDriver.execute_script\u001b[1;34m(self, script, *args)\u001b[0m\n\u001b[0;32m    405\u001b[0m converted_args \u001b[38;5;241m=\u001b[39m \u001b[38;5;28mlist\u001b[39m(args)\n\u001b[0;32m    406\u001b[0m command \u001b[38;5;241m=\u001b[39m Command\u001b[38;5;241m.\u001b[39mW3C_EXECUTE_SCRIPT\n\u001b[1;32m--> 408\u001b[0m \u001b[38;5;28;01mreturn\u001b[39;00m \u001b[38;5;28;43mself\u001b[39;49m\u001b[38;5;241;43m.\u001b[39;49m\u001b[43mexecute\u001b[49m\u001b[43m(\u001b[49m\u001b[43mcommand\u001b[49m\u001b[43m,\u001b[49m\u001b[43m \u001b[49m\u001b[43m{\u001b[49m\u001b[38;5;124;43m\"\u001b[39;49m\u001b[38;5;124;43mscript\u001b[39;49m\u001b[38;5;124;43m\"\u001b[39;49m\u001b[43m:\u001b[49m\u001b[43m \u001b[49m\u001b[43mscript\u001b[49m\u001b[43m,\u001b[49m\u001b[43m \u001b[49m\u001b[38;5;124;43m\"\u001b[39;49m\u001b[38;5;124;43margs\u001b[39;49m\u001b[38;5;124;43m\"\u001b[39;49m\u001b[43m:\u001b[49m\u001b[43m \u001b[49m\u001b[43mconverted_args\u001b[49m\u001b[43m}\u001b[49m\u001b[43m)\u001b[49m[\u001b[38;5;124m\"\u001b[39m\u001b[38;5;124mvalue\u001b[39m\u001b[38;5;124m\"\u001b[39m]\n",
      "File \u001b[1;32mf:\\Python 3.9\\lib\\site-packages\\selenium\\webdriver\\remote\\webdriver.py:348\u001b[0m, in \u001b[0;36mWebDriver.execute\u001b[1;34m(self, driver_command, params)\u001b[0m\n\u001b[0;32m    346\u001b[0m response \u001b[38;5;241m=\u001b[39m \u001b[38;5;28mself\u001b[39m\u001b[38;5;241m.\u001b[39mcommand_executor\u001b[38;5;241m.\u001b[39mexecute(driver_command, params)\n\u001b[0;32m    347\u001b[0m \u001b[38;5;28;01mif\u001b[39;00m response:\n\u001b[1;32m--> 348\u001b[0m     \u001b[38;5;28;43mself\u001b[39;49m\u001b[38;5;241;43m.\u001b[39;49m\u001b[43merror_handler\u001b[49m\u001b[38;5;241;43m.\u001b[39;49m\u001b[43mcheck_response\u001b[49m\u001b[43m(\u001b[49m\u001b[43mresponse\u001b[49m\u001b[43m)\u001b[49m\n\u001b[0;32m    349\u001b[0m     response[\u001b[38;5;124m\"\u001b[39m\u001b[38;5;124mvalue\u001b[39m\u001b[38;5;124m\"\u001b[39m] \u001b[38;5;241m=\u001b[39m \u001b[38;5;28mself\u001b[39m\u001b[38;5;241m.\u001b[39m_unwrap_value(response\u001b[38;5;241m.\u001b[39mget(\u001b[38;5;124m\"\u001b[39m\u001b[38;5;124mvalue\u001b[39m\u001b[38;5;124m\"\u001b[39m, \u001b[38;5;28;01mNone\u001b[39;00m))\n\u001b[0;32m    350\u001b[0m     \u001b[38;5;28;01mreturn\u001b[39;00m response\n",
      "File \u001b[1;32mf:\\Python 3.9\\lib\\site-packages\\selenium\\webdriver\\remote\\errorhandler.py:229\u001b[0m, in \u001b[0;36mErrorHandler.check_response\u001b[1;34m(self, response)\u001b[0m\n\u001b[0;32m    227\u001b[0m         alert_text \u001b[38;5;241m=\u001b[39m value[\u001b[38;5;124m\"\u001b[39m\u001b[38;5;124malert\u001b[39m\u001b[38;5;124m\"\u001b[39m]\u001b[38;5;241m.\u001b[39mget(\u001b[38;5;124m\"\u001b[39m\u001b[38;5;124mtext\u001b[39m\u001b[38;5;124m\"\u001b[39m)\n\u001b[0;32m    228\u001b[0m     \u001b[38;5;28;01mraise\u001b[39;00m exception_class(message, screen, stacktrace, alert_text)  \u001b[38;5;66;03m# type: ignore[call-arg]  # mypy is not smart enough here\u001b[39;00m\n\u001b[1;32m--> 229\u001b[0m \u001b[38;5;28;01mraise\u001b[39;00m exception_class(message, screen, stacktrace)\n",
      "\u001b[1;31mStaleElementReferenceException\u001b[0m: Message: stale element reference: stale element not found\n  (Session info: chrome=120.0.6099.218); For documentation on this error, please visit: https://www.selenium.dev/documentation/webdriver/troubleshooting/errors#stale-element-reference-exception\nStacktrace:\n\tGetHandleVerifier [0x00007FF701F22142+3514994]\n\t(No symbol) [0x00007FF701B40CE2]\n\t(No symbol) [0x00007FF7019E76AA]\n\t(No symbol) [0x00007FF7019ECFC0]\n\t(No symbol) [0x00007FF7019EF6F7]\n\t(No symbol) [0x00007FF701A7316B]\n\t(No symbol) [0x00007FF701A55FEA]\n\t(No symbol) [0x00007FF701A728F6]\n\t(No symbol) [0x00007FF701A55D93]\n\t(No symbol) [0x00007FF701A24BDC]\n\t(No symbol) [0x00007FF701A25C64]\n\tGetHandleVerifier [0x00007FF701F4E16B+3695259]\n\tGetHandleVerifier [0x00007FF701FA6737+4057191]\n\tGetHandleVerifier [0x00007FF701F9E4E3+4023827]\n\tGetHandleVerifier [0x00007FF701C704F9+689705]\n\t(No symbol) [0x00007FF701B4C048]\n\t(No symbol) [0x00007FF701B48044]\n\t(No symbol) [0x00007FF701B481C9]\n\t(No symbol) [0x00007FF701B388C4]\n\tBaseThreadInitThunk [0x00007FF82CC77344+20]\n\tRtlUserThreadStart [0x00007FF82DA626B1+33]\n"
     ]
    }
   ],
   "source": [
    "search_input = driver.find_element(By.CLASS_NAME,\"search-global-typeahead__input\")\n",
    "search_input.send_keys(\"Abishek Banerjee\")\n",
    "\n",
    "search_input.send_keys(Keys.RETURN)\n",
    "\n",
    "# Wait for a moment to let the search results load\n",
    "driver.implicitly_wait(5)\n",
    "\n",
    "# Use WebDriverWait to wait until the \"See all people results\" link is present\n",
    "see_all_link = WebDriverWait(driver, 30).until(\n",
    "    EC.presence_of_element_located((By.LINK_TEXT, \"See all people results\"))\n",
    ")\n",
    "see_all_link.click()\n",
    "\n",
    "a = []\n",
    "for i in range(1,11):\n",
    "    g = f\"/html/body/div[5]/div[3]/div[2]/div/div[1]/main/div/div/div[2]/div/ul/li[{i}]/div/div/div/div[2]/div/div[1]/div/span[1]/span/a\"\n",
    "    a.append(g)\n",
    "\n",
    "i = 0\n",
    "while i<=9:\n",
    "    driver.implicitly_wait(5)\n",
    "    input_res = driver.find_element(By.XPATH,value=a[i])\n",
    "    print(input_res.get_attribute('href'))\n",
    "    i+=1\n"
   ]
  },
  {
   "cell_type": "code",
   "execution_count": 6,
   "metadata": {},
   "outputs": [
    {
     "data": {
      "text/plain": [
       "[]"
      ]
     },
     "execution_count": 6,
     "metadata": {},
     "output_type": "execute_result"
    }
   ],
   "source": [
    "/html/body/div[5]/div[3]/div[2]/div/div[1]/main/div/div/div[2]/div/ul/li[1]/div/div/div/div[2]/div/div[1]/div/span[1]/span/a/span/span[1]\n",
    "/html/body/div[5]/div[3]/div[2]/div/div[1]/main/div/div/div[2]/div/ul/li[2]/div/div/div/div[2]/div/div[1]/div/span[1]/span/a/span/span[1]\n",
    "/html/body/div[5]/div[3]/div[2]/div/div[1]/main/div/div/div[2]/div/ul/li[3]/div/div/div/div[2]/div/div[1]/div/span[1]/span/a/span/span[1]"
   ]
  },
  {
   "cell_type": "code",
   "execution_count": 42,
   "metadata": {},
   "outputs": [
    {
     "name": "stdout",
     "output_type": "stream",
     "text": [
      "/html/body/div[5]/div[3]/div[2]/div/div[1]/main/div/div/div[2]/div/ul/li[1]/div/div/div/div[2]/div/div[1]/div/span[1]/span/a\n"
     ]
    }
   ],
   "source": [
    "a = []\n",
    "for i in range(1,11):\n",
    "    g = f\"/html/body/div[5]/div[3]/div[2]/div/div[1]/main/div/div/div[2]/div/ul/li[{i}]/div/div/div/div[2]/div/div[1]/div/span[1]/span/a\"\n",
    "    a.append(g)\n",
    "\n",
    "print(a[0])"
   ]
  },
  {
   "cell_type": "code",
   "execution_count": null,
   "metadata": {},
   "outputs": [],
   "source": []
  }
 ],
 "metadata": {
  "kernelspec": {
   "display_name": "Python 3",
   "language": "python",
   "name": "python3"
  },
  "language_info": {
   "codemirror_mode": {
    "name": "ipython",
    "version": 3
   },
   "file_extension": ".py",
   "mimetype": "text/x-python",
   "name": "python",
   "nbconvert_exporter": "python",
   "pygments_lexer": "ipython3",
   "version": "3.9.0"
  }
 },
 "nbformat": 4,
 "nbformat_minor": 2
}
